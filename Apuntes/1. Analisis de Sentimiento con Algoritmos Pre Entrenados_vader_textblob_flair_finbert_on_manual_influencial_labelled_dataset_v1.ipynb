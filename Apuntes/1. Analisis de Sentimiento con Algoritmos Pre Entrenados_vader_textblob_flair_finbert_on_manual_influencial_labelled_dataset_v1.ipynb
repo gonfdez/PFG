{
 "cells": [
  {
   "cell_type": "markdown",
   "id": "ebc28132",
   "metadata": {},
   "source": [
    "# Comparing sentimental analysis for out final manual & influencial labelled data\n",
    "\n",
    "\n"
   ]
  },
  {
   "cell_type": "markdown",
   "id": "2d347a6c",
   "metadata": {},
   "source": [
    "## 2.0 - Calculating several Sentiment Analysis"
   ]
  },
  {
   "cell_type": "markdown",
   "id": "568d7b5d",
   "metadata": {},
   "source": [
    "### Vader Sentiment Analysis"
   ]
  },
  {
   "cell_type": "code",
   "execution_count": 1,
   "id": "8c77a2b1",
   "metadata": {},
   "outputs": [],
   "source": [
    "import pandas as pd\n",
    "df = pd.read_excel(\"CryptoLin.xlsx\")"
   ]
  },
  {
   "cell_type": "code",
   "execution_count": 2,
   "id": "1fb55a7a",
   "metadata": {},
   "outputs": [
    {
     "data": {
      "text/html": [
       "<div>\n",
       "<style scoped>\n",
       "    .dataframe tbody tr th:only-of-type {\n",
       "        vertical-align: middle;\n",
       "    }\n",
       "\n",
       "    .dataframe tbody tr th {\n",
       "        vertical-align: top;\n",
       "    }\n",
       "\n",
       "    .dataframe thead th {\n",
       "        text-align: right;\n",
       "    }\n",
       "</style>\n",
       "<table border=\"1\" class=\"dataframe\">\n",
       "  <thead>\n",
       "    <tr style=\"text-align: right;\">\n",
       "      <th></th>\n",
       "      <th>date</th>\n",
       "      <th>news</th>\n",
       "    </tr>\n",
       "  </thead>\n",
       "  <tbody>\n",
       "    <tr>\n",
       "      <th>0</th>\n",
       "      <td>1/25/2022</td>\n",
       "      <td>Ripple announces stock buyback, nabs $15 billion valuation</td>\n",
       "    </tr>\n",
       "    <tr>\n",
       "      <th>1</th>\n",
       "      <td>1/25/2022</td>\n",
       "      <td>IMF directors urge El Salvador to remove Bitcoin as legal tender</td>\n",
       "    </tr>\n",
       "    <tr>\n",
       "      <th>2</th>\n",
       "      <td>1/25/2022</td>\n",
       "      <td>Dragonfly Capital is raising $500 million for new fund</td>\n",
       "    </tr>\n",
       "    <tr>\n",
       "      <th>3</th>\n",
       "      <td>1/25/2022</td>\n",
       "      <td>Rick and Morty co-creator collaborates with Paradigm on NFT research project</td>\n",
       "    </tr>\n",
       "    <tr>\n",
       "      <th>4</th>\n",
       "      <td>1/25/2022</td>\n",
       "      <td>How fintech SPACs lost their shine</td>\n",
       "    </tr>\n",
       "    <tr>\n",
       "      <th>...</th>\n",
       "      <td>...</td>\n",
       "      <td>...</td>\n",
       "    </tr>\n",
       "    <tr>\n",
       "      <th>2678</th>\n",
       "      <td>5/1/2020</td>\n",
       "      <td>Gambling for a good cause  CryptoSlots donates all proceeds from new slot to the fight against coronavirus</td>\n",
       "    </tr>\n",
       "    <tr>\n",
       "      <th>2679</th>\n",
       "      <td>4/18/2020</td>\n",
       "      <td>Litecoin, The Chinese Alternative to Bitcoin</td>\n",
       "    </tr>\n",
       "    <tr>\n",
       "      <th>2680</th>\n",
       "      <td>4/10/2020</td>\n",
       "      <td>Do You Know What is Happening to Money?</td>\n",
       "    </tr>\n",
       "    <tr>\n",
       "      <th>2681</th>\n",
       "      <td>7/30/2018</td>\n",
       "      <td>Download CoinMarketCal app on App Store</td>\n",
       "    </tr>\n",
       "    <tr>\n",
       "      <th>2682</th>\n",
       "      <td>7/30/2018</td>\n",
       "      <td>Download CoinMarketCal app on Google Play</td>\n",
       "    </tr>\n",
       "  </tbody>\n",
       "</table>\n",
       "<p>2683 rows × 2 columns</p>\n",
       "</div>"
      ],
      "text/plain": [
       "           date  \\\n",
       "0     1/25/2022   \n",
       "1     1/25/2022   \n",
       "2     1/25/2022   \n",
       "3     1/25/2022   \n",
       "4     1/25/2022   \n",
       "...         ...   \n",
       "2678   5/1/2020   \n",
       "2679  4/18/2020   \n",
       "2680  4/10/2020   \n",
       "2681  7/30/2018   \n",
       "2682  7/30/2018   \n",
       "\n",
       "                                                                                                             news  \n",
       "0                                                      Ripple announces stock buyback, nabs $15 billion valuation  \n",
       "1                                                IMF directors urge El Salvador to remove Bitcoin as legal tender  \n",
       "2                                                          Dragonfly Capital is raising $500 million for new fund  \n",
       "3                                    Rick and Morty co-creator collaborates with Paradigm on NFT research project  \n",
       "4                                                                              How fintech SPACs lost their shine  \n",
       "...                                                                                                           ...  \n",
       "2678  Gambling for a good cause  CryptoSlots donates all proceeds from new slot to the fight against coronavirus  \n",
       "2679                                                                 Litecoin, The Chinese Alternative to Bitcoin  \n",
       "2680                                                                      Do You Know What is Happening to Money?  \n",
       "2681                                                                      Download CoinMarketCal app on App Store  \n",
       "2682                                                                    Download CoinMarketCal app on Google Play  \n",
       "\n",
       "[2683 rows x 2 columns]"
      ]
     },
     "execution_count": 2,
     "metadata": {},
     "output_type": "execute_result"
    }
   ],
   "source": [
    "pd.options.display.max_colwidth = 140\n",
    "df[['date','news']]"
   ]
  },
  {
   "cell_type": "code",
   "execution_count": null,
   "id": "317e2761",
   "metadata": {},
   "outputs": [],
   "source": []
  },
  {
   "cell_type": "code",
   "execution_count": 3,
   "id": "1a0ecf43",
   "metadata": {},
   "outputs": [
    {
     "name": "stdout",
     "output_type": "stream",
     "text": [
      "Requirement already satisfied: vaderSentiment in c:\\anaconda3\\lib\\site-packages (3.3.2)\n",
      "Requirement already satisfied: requests in c:\\anaconda3\\lib\\site-packages (from vaderSentiment) (2.25.1)\n",
      "Requirement already satisfied: certifi>=2017.4.17 in c:\\anaconda3\\lib\\site-packages (from requests->vaderSentiment) (2020.12.5)\n",
      "Requirement already satisfied: urllib3<1.27,>=1.21.1 in c:\\anaconda3\\lib\\site-packages (from requests->vaderSentiment) (1.26.4)\n",
      "Requirement already satisfied: chardet<5,>=3.0.2 in c:\\anaconda3\\lib\\site-packages (from requests->vaderSentiment) (4.0.0)\n",
      "Requirement already satisfied: idna<3,>=2.5 in c:\\anaconda3\\lib\\site-packages (from requests->vaderSentiment) (2.10)\n"
     ]
    }
   ],
   "source": [
    "!pip install vaderSentiment\n",
    "from vaderSentiment.vaderSentiment import SentimentIntensityAnalyzer\n",
    "vader = SentimentIntensityAnalyzer()\n",
    "df['vader'] = df['news'].apply(lambda x: vader.polarity_scores(x)['compound'])"
   ]
  },
  {
   "cell_type": "code",
   "execution_count": 4,
   "id": "01a97203",
   "metadata": {},
   "outputs": [
    {
     "data": {
      "text/html": [
       "<div>\n",
       "<style scoped>\n",
       "    .dataframe tbody tr th:only-of-type {\n",
       "        vertical-align: middle;\n",
       "    }\n",
       "\n",
       "    .dataframe tbody tr th {\n",
       "        vertical-align: top;\n",
       "    }\n",
       "\n",
       "    .dataframe thead th {\n",
       "        text-align: right;\n",
       "    }\n",
       "</style>\n",
       "<table border=\"1\" class=\"dataframe\">\n",
       "  <thead>\n",
       "    <tr style=\"text-align: right;\">\n",
       "      <th></th>\n",
       "      <th>Unnamed: 0</th>\n",
       "      <th>id</th>\n",
       "      <th>date</th>\n",
       "      <th>news</th>\n",
       "      <th>final_manual_labelling</th>\n",
       "      <th>text_span</th>\n",
       "      <th>type_abnormal_return_fama_frech</th>\n",
       "      <th>vader</th>\n",
       "    </tr>\n",
       "  </thead>\n",
       "  <tbody>\n",
       "    <tr>\n",
       "      <th>0</th>\n",
       "      <td>0</td>\n",
       "      <td>0</td>\n",
       "      <td>1/25/2022</td>\n",
       "      <td>Ripple announces stock buyback, nabs $15 billion valuation</td>\n",
       "      <td>1</td>\n",
       "      <td>{annotator1_id:6;annotator1_label:1; annotator2_id:23; annotator2_label2:0; annotator3_id:17;annotator3_label:1}</td>\n",
       "      <td>0</td>\n",
       "      <td>0.0000</td>\n",
       "    </tr>\n",
       "    <tr>\n",
       "      <th>1</th>\n",
       "      <td>1</td>\n",
       "      <td>1</td>\n",
       "      <td>1/25/2022</td>\n",
       "      <td>IMF directors urge El Salvador to remove Bitcoin as legal tender</td>\n",
       "      <td>-1</td>\n",
       "      <td>{annotator1_id:16;annotator1_label:0; annotator2_id:1; annotator2_label2:-1; annotator3_id:4;annotator3_label:-1}</td>\n",
       "      <td>0</td>\n",
       "      <td>0.1280</td>\n",
       "    </tr>\n",
       "    <tr>\n",
       "      <th>2</th>\n",
       "      <td>2</td>\n",
       "      <td>2</td>\n",
       "      <td>1/25/2022</td>\n",
       "      <td>Dragonfly Capital is raising $500 million for new fund</td>\n",
       "      <td>1</td>\n",
       "      <td>{annotator1_id:22;annotator1_label:1; annotator2_id:23; annotator2_label2:0; annotator3_id:13;annotator3_label:1}</td>\n",
       "      <td>0</td>\n",
       "      <td>0.0000</td>\n",
       "    </tr>\n",
       "    <tr>\n",
       "      <th>3</th>\n",
       "      <td>3</td>\n",
       "      <td>3</td>\n",
       "      <td>1/25/2022</td>\n",
       "      <td>Rick and Morty co-creator collaborates with Paradigm on NFT research project</td>\n",
       "      <td>0</td>\n",
       "      <td>{annotator1_id:15;annotator1_label:0; annotator2_id:12; annotator2_label2:1; annotator3_id:7;annotator3_label:0}</td>\n",
       "      <td>0</td>\n",
       "      <td>0.0000</td>\n",
       "    </tr>\n",
       "    <tr>\n",
       "      <th>4</th>\n",
       "      <td>4</td>\n",
       "      <td>4</td>\n",
       "      <td>1/25/2022</td>\n",
       "      <td>How fintech SPACs lost their shine</td>\n",
       "      <td>0</td>\n",
       "      <td>{annotator1_id:8;annotator1_label:0; annotator2_id:26; annotator2_label2:0; annotator3_id:4;annotator3_label:-1}</td>\n",
       "      <td>0</td>\n",
       "      <td>-0.3182</td>\n",
       "    </tr>\n",
       "    <tr>\n",
       "      <th>...</th>\n",
       "      <td>...</td>\n",
       "      <td>...</td>\n",
       "      <td>...</td>\n",
       "      <td>...</td>\n",
       "      <td>...</td>\n",
       "      <td>...</td>\n",
       "      <td>...</td>\n",
       "      <td>...</td>\n",
       "    </tr>\n",
       "    <tr>\n",
       "      <th>2678</th>\n",
       "      <td>2678</td>\n",
       "      <td>2678</td>\n",
       "      <td>5/1/2020</td>\n",
       "      <td>Gambling for a good cause  CryptoSlots donates all proceeds from new slot to the fight against coronavirus</td>\n",
       "      <td>1</td>\n",
       "      <td>{annotator1_id:27;annotator1_label:1; annotator2_id:12; annotator2_label2:1; annotator3_id:18;annotator3_label:1}</td>\n",
       "      <td>1</td>\n",
       "      <td>0.0772</td>\n",
       "    </tr>\n",
       "    <tr>\n",
       "      <th>2679</th>\n",
       "      <td>2679</td>\n",
       "      <td>2679</td>\n",
       "      <td>4/18/2020</td>\n",
       "      <td>Litecoin, The Chinese Alternative to Bitcoin</td>\n",
       "      <td>0</td>\n",
       "      <td>{annotator1_id:8;annotator1_label:0; annotator2_id:5; annotator2_label2:0; annotator3_id:24;annotator3_label:1}</td>\n",
       "      <td>1</td>\n",
       "      <td>0.0000</td>\n",
       "    </tr>\n",
       "    <tr>\n",
       "      <th>2680</th>\n",
       "      <td>2680</td>\n",
       "      <td>2680</td>\n",
       "      <td>4/10/2020</td>\n",
       "      <td>Do You Know What is Happening to Money?</td>\n",
       "      <td>0</td>\n",
       "      <td>{annotator1_id:16;annotator1_label:0; annotator2_id:12; annotator2_label2:0; annotator3_id:13;annotator3_label:0}</td>\n",
       "      <td>0</td>\n",
       "      <td>0.0000</td>\n",
       "    </tr>\n",
       "    <tr>\n",
       "      <th>2681</th>\n",
       "      <td>2681</td>\n",
       "      <td>2681</td>\n",
       "      <td>7/30/2018</td>\n",
       "      <td>Download CoinMarketCal app on App Store</td>\n",
       "      <td>0</td>\n",
       "      <td>{annotator1_id:11;annotator1_label:0; annotator2_id:1; annotator2_label2:0; annotator3_id:7;annotator3_label:0}</td>\n",
       "      <td>0</td>\n",
       "      <td>0.0000</td>\n",
       "    </tr>\n",
       "    <tr>\n",
       "      <th>2682</th>\n",
       "      <td>2682</td>\n",
       "      <td>2682</td>\n",
       "      <td>7/30/2018</td>\n",
       "      <td>Download CoinMarketCal app on Google Play</td>\n",
       "      <td>0</td>\n",
       "      <td>{annotator1_id:21;annotator1_label:0; annotator2_id:23; annotator2_label2:0; annotator3_id:14;annotator3_label:0}</td>\n",
       "      <td>0</td>\n",
       "      <td>0.3400</td>\n",
       "    </tr>\n",
       "  </tbody>\n",
       "</table>\n",
       "<p>2683 rows × 8 columns</p>\n",
       "</div>"
      ],
      "text/plain": [
       "      Unnamed: 0    id       date  \\\n",
       "0              0     0  1/25/2022   \n",
       "1              1     1  1/25/2022   \n",
       "2              2     2  1/25/2022   \n",
       "3              3     3  1/25/2022   \n",
       "4              4     4  1/25/2022   \n",
       "...          ...   ...        ...   \n",
       "2678        2678  2678   5/1/2020   \n",
       "2679        2679  2679  4/18/2020   \n",
       "2680        2680  2680  4/10/2020   \n",
       "2681        2681  2681  7/30/2018   \n",
       "2682        2682  2682  7/30/2018   \n",
       "\n",
       "                                                                                                             news  \\\n",
       "0                                                      Ripple announces stock buyback, nabs $15 billion valuation   \n",
       "1                                                IMF directors urge El Salvador to remove Bitcoin as legal tender   \n",
       "2                                                          Dragonfly Capital is raising $500 million for new fund   \n",
       "3                                    Rick and Morty co-creator collaborates with Paradigm on NFT research project   \n",
       "4                                                                              How fintech SPACs lost their shine   \n",
       "...                                                                                                           ...   \n",
       "2678  Gambling for a good cause  CryptoSlots donates all proceeds from new slot to the fight against coronavirus   \n",
       "2679                                                                 Litecoin, The Chinese Alternative to Bitcoin   \n",
       "2680                                                                      Do You Know What is Happening to Money?   \n",
       "2681                                                                      Download CoinMarketCal app on App Store   \n",
       "2682                                                                    Download CoinMarketCal app on Google Play   \n",
       "\n",
       "      final_manual_labelling  \\\n",
       "0                          1   \n",
       "1                         -1   \n",
       "2                          1   \n",
       "3                          0   \n",
       "4                          0   \n",
       "...                      ...   \n",
       "2678                       1   \n",
       "2679                       0   \n",
       "2680                       0   \n",
       "2681                       0   \n",
       "2682                       0   \n",
       "\n",
       "                                                                                                              text_span  \\\n",
       "0      {annotator1_id:6;annotator1_label:1; annotator2_id:23; annotator2_label2:0; annotator3_id:17;annotator3_label:1}   \n",
       "1     {annotator1_id:16;annotator1_label:0; annotator2_id:1; annotator2_label2:-1; annotator3_id:4;annotator3_label:-1}   \n",
       "2     {annotator1_id:22;annotator1_label:1; annotator2_id:23; annotator2_label2:0; annotator3_id:13;annotator3_label:1}   \n",
       "3      {annotator1_id:15;annotator1_label:0; annotator2_id:12; annotator2_label2:1; annotator3_id:7;annotator3_label:0}   \n",
       "4      {annotator1_id:8;annotator1_label:0; annotator2_id:26; annotator2_label2:0; annotator3_id:4;annotator3_label:-1}   \n",
       "...                                                                                                                 ...   \n",
       "2678  {annotator1_id:27;annotator1_label:1; annotator2_id:12; annotator2_label2:1; annotator3_id:18;annotator3_label:1}   \n",
       "2679    {annotator1_id:8;annotator1_label:0; annotator2_id:5; annotator2_label2:0; annotator3_id:24;annotator3_label:1}   \n",
       "2680  {annotator1_id:16;annotator1_label:0; annotator2_id:12; annotator2_label2:0; annotator3_id:13;annotator3_label:0}   \n",
       "2681    {annotator1_id:11;annotator1_label:0; annotator2_id:1; annotator2_label2:0; annotator3_id:7;annotator3_label:0}   \n",
       "2682  {annotator1_id:21;annotator1_label:0; annotator2_id:23; annotator2_label2:0; annotator3_id:14;annotator3_label:0}   \n",
       "\n",
       "      type_abnormal_return_fama_frech   vader  \n",
       "0                                   0  0.0000  \n",
       "1                                   0  0.1280  \n",
       "2                                   0  0.0000  \n",
       "3                                   0  0.0000  \n",
       "4                                   0 -0.3182  \n",
       "...                               ...     ...  \n",
       "2678                                1  0.0772  \n",
       "2679                                1  0.0000  \n",
       "2680                                0  0.0000  \n",
       "2681                                0  0.0000  \n",
       "2682                                0  0.3400  \n",
       "\n",
       "[2683 rows x 8 columns]"
      ]
     },
     "execution_count": 4,
     "metadata": {},
     "output_type": "execute_result"
    }
   ],
   "source": [
    "df"
   ]
  },
  {
   "cell_type": "markdown",
   "id": "5bef1b94",
   "metadata": {},
   "source": [
    "### Textblob Sentiment Analysis"
   ]
  },
  {
   "cell_type": "code",
   "execution_count": 5,
   "id": "4443c9fd",
   "metadata": {},
   "outputs": [
    {
     "name": "stdout",
     "output_type": "stream",
     "text": [
      "Requirement already satisfied: textblob in c:\\anaconda3\\lib\\site-packages (0.17.1)\n",
      "Requirement already satisfied: nltk>=3.1 in c:\\anaconda3\\lib\\site-packages (from textblob) (3.6.1)\n",
      "Requirement already satisfied: joblib in c:\\anaconda3\\lib\\site-packages (from nltk>=3.1->textblob) (1.0.1)\n",
      "Requirement already satisfied: regex in c:\\anaconda3\\lib\\site-packages (from nltk>=3.1->textblob) (2021.4.4)\n",
      "Requirement already satisfied: click in c:\\anaconda3\\lib\\site-packages (from nltk>=3.1->textblob) (7.1.2)\n",
      "Requirement already satisfied: tqdm in c:\\anaconda3\\lib\\site-packages (from nltk>=3.1->textblob) (4.59.0)\n"
     ]
    }
   ],
   "source": [
    "!pip install textblob\n",
    "from textblob import TextBlob\n",
    "df['textblob'] = df['news'].apply(lambda x: TextBlob(x).sentiment.polarity)\n",
    "\n"
   ]
  },
  {
   "cell_type": "code",
   "execution_count": 6,
   "id": "baf189a8",
   "metadata": {},
   "outputs": [],
   "source": [
    "## Calculating manual_influencial_labelling"
   ]
  },
  {
   "cell_type": "markdown",
   "id": "0652ce93",
   "metadata": {},
   "source": [
    "### Flair Sentiment Analysis"
   ]
  },
  {
   "cell_type": "code",
   "execution_count": 7,
   "id": "f7319311",
   "metadata": {},
   "outputs": [
    {
     "name": "stdout",
     "output_type": "stream",
     "text": [
      "Requirement already satisfied: flair in c:\\anaconda3\\lib\\site-packages (0.11.1)\n",
      "Requirement already satisfied: mpld3==0.3 in c:\\anaconda3\\lib\\site-packages (from flair) (0.3)\n",
      "Requirement already satisfied: sqlitedict>=1.6.0 in c:\\anaconda3\\lib\\site-packages (from flair) (2.0.0)\n",
      "Requirement already satisfied: tabulate in c:\\anaconda3\\lib\\site-packages (from flair) (0.8.9)\n",
      "Requirement already satisfied: segtok>=1.5.7 in c:\\anaconda3\\lib\\site-packages (from flair) (1.5.11)\n",
      "Requirement already satisfied: hyperopt>=0.2.7 in c:\\anaconda3\\lib\\site-packages (from flair) (0.2.7)\n",
      "Requirement already satisfied: wikipedia-api in c:\\anaconda3\\lib\\site-packages (from flair) (0.5.4)\n",
      "Requirement already satisfied: gensim>=3.4.0 in c:\\anaconda3\\lib\\site-packages (from flair) (4.1.2)\n",
      "Requirement already satisfied: matplotlib>=2.2.3 in c:\\anaconda3\\lib\\site-packages (from flair) (3.3.4)\n",
      "Requirement already satisfied: ftfy in c:\\anaconda3\\lib\\site-packages (from flair) (6.1.1)\n",
      "Requirement already satisfied: torch!=1.8,>=1.5.0 in c:\\anaconda3\\lib\\site-packages (from flair) (1.11.0)\n",
      "Requirement already satisfied: konoha<5.0.0,>=4.0.0 in c:\\anaconda3\\lib\\site-packages (from flair) (4.6.5)\n",
      "Requirement already satisfied: sentencepiece==0.1.95 in c:\\anaconda3\\lib\\site-packages (from flair) (0.1.95)\n",
      "Requirement already satisfied: conllu>=4.0 in c:\\anaconda3\\lib\\site-packages (from flair) (4.4.1)\n",
      "Requirement already satisfied: bpemb>=0.3.2 in c:\\anaconda3\\lib\\site-packages (from flair) (0.3.3)\n",
      "Requirement already satisfied: regex in c:\\anaconda3\\lib\\site-packages (from flair) (2021.4.4)\n",
      "Requirement already satisfied: janome in c:\\anaconda3\\lib\\site-packages (from flair) (0.4.2)\n",
      "Requirement already satisfied: huggingface-hub in c:\\anaconda3\\lib\\site-packages (from flair) (0.5.1)\n",
      "Requirement already satisfied: more-itertools~=8.8.0 in c:\\anaconda3\\lib\\site-packages (from flair) (8.8.0)\n",
      "Requirement already satisfied: pptree in c:\\anaconda3\\lib\\site-packages (from flair) (3.1)\n",
      "Requirement already satisfied: transformers>=4.0.0 in c:\\anaconda3\\lib\\site-packages (from flair) (4.18.0)\n",
      "Requirement already satisfied: langdetect in c:\\anaconda3\\lib\\site-packages (from flair) (1.0.9)\n",
      "Requirement already satisfied: gdown==3.12.2 in c:\\anaconda3\\lib\\site-packages (from flair) (3.12.2)\n",
      "Requirement already satisfied: lxml in c:\\anaconda3\\lib\\site-packages (from flair) (4.6.3)\n",
      "Requirement already satisfied: tqdm>=4.26.0 in c:\\anaconda3\\lib\\site-packages (from flair) (4.59.0)\n",
      "Requirement already satisfied: deprecated>=1.2.4 in c:\\anaconda3\\lib\\site-packages (from flair) (1.2.13)\n",
      "Requirement already satisfied: scikit-learn>=0.21.3 in c:\\anaconda3\\lib\\site-packages (from flair) (0.24.1)\n",
      "Requirement already satisfied: python-dateutil>=2.6.1 in c:\\anaconda3\\lib\\site-packages (from flair) (2.8.1)\n",
      "Requirement already satisfied: six in c:\\anaconda3\\lib\\site-packages (from gdown==3.12.2->flair) (1.15.0)\n",
      "Requirement already satisfied: filelock in c:\\anaconda3\\lib\\site-packages (from gdown==3.12.2->flair) (3.0.12)\n",
      "Requirement already satisfied: requests[socks] in c:\\anaconda3\\lib\\site-packages (from gdown==3.12.2->flair) (2.25.1)\n",
      "Requirement already satisfied: numpy in c:\\anaconda3\\lib\\site-packages (from bpemb>=0.3.2->flair) (1.20.1)\n",
      "Requirement already satisfied: wrapt<2,>=1.10 in c:\\anaconda3\\lib\\site-packages (from deprecated>=1.2.4->flair) (1.12.1)\n",
      "Requirement already satisfied: Cython==0.29.23 in c:\\anaconda3\\lib\\site-packages (from gensim>=3.4.0->flair) (0.29.23)\n",
      "Requirement already satisfied: smart-open>=1.8.1 in c:\\anaconda3\\lib\\site-packages (from gensim>=3.4.0->flair) (6.0.0)\n",
      "Requirement already satisfied: scipy>=0.18.1 in c:\\anaconda3\\lib\\site-packages (from gensim>=3.4.0->flair) (1.6.2)\n",
      "Requirement already satisfied: networkx>=2.2 in c:\\anaconda3\\lib\\site-packages (from hyperopt>=0.2.7->flair) (2.5)\n",
      "Requirement already satisfied: future in c:\\anaconda3\\lib\\site-packages (from hyperopt>=0.2.7->flair) (0.18.2)\n",
      "Requirement already satisfied: py4j in c:\\anaconda3\\lib\\site-packages (from hyperopt>=0.2.7->flair) (0.10.9.5)\n",
      "Requirement already satisfied: cloudpickle in c:\\anaconda3\\lib\\site-packages (from hyperopt>=0.2.7->flair) (1.6.0)\n",
      "Requirement already satisfied: importlib-metadata<4.0.0,>=3.7.0 in c:\\anaconda3\\lib\\site-packages (from konoha<5.0.0,>=4.0.0->flair) (3.10.1)\n",
      "Requirement already satisfied: overrides<4.0.0,>=3.0.0 in c:\\anaconda3\\lib\\site-packages (from konoha<5.0.0,>=4.0.0->flair) (3.1.0)\n",
      "Requirement already satisfied: zipp>=0.5 in c:\\anaconda3\\lib\\site-packages (from importlib-metadata<4.0.0,>=3.7.0->konoha<5.0.0,>=4.0.0->flair) (3.4.1)\n",
      "Requirement already satisfied: pyparsing!=2.0.4,!=2.1.2,!=2.1.6,>=2.0.3 in c:\\anaconda3\\lib\\site-packages (from matplotlib>=2.2.3->flair) (2.4.7)\n",
      "Requirement already satisfied: kiwisolver>=1.0.1 in c:\\anaconda3\\lib\\site-packages (from matplotlib>=2.2.3->flair) (1.3.1)\n",
      "Requirement already satisfied: pillow>=6.2.0 in c:\\anaconda3\\lib\\site-packages (from matplotlib>=2.2.3->flair) (8.2.0)\n",
      "Requirement already satisfied: cycler>=0.10 in c:\\anaconda3\\lib\\site-packages (from matplotlib>=2.2.3->flair) (0.10.0)\n",
      "Requirement already satisfied: decorator>=4.3.0 in c:\\anaconda3\\lib\\site-packages (from networkx>=2.2->hyperopt>=0.2.7->flair) (5.0.6)\n",
      "Requirement already satisfied: chardet<5,>=3.0.2 in c:\\anaconda3\\lib\\site-packages (from requests[socks]->gdown==3.12.2->flair) (4.0.0)\n",
      "Requirement already satisfied: certifi>=2017.4.17 in c:\\anaconda3\\lib\\site-packages (from requests[socks]->gdown==3.12.2->flair) (2020.12.5)\n",
      "Requirement already satisfied: urllib3<1.27,>=1.21.1 in c:\\anaconda3\\lib\\site-packages (from requests[socks]->gdown==3.12.2->flair) (1.26.4)\n",
      "Requirement already satisfied: idna<3,>=2.5 in c:\\anaconda3\\lib\\site-packages (from requests[socks]->gdown==3.12.2->flair) (2.10)\n",
      "Requirement already satisfied: joblib>=0.11 in c:\\anaconda3\\lib\\site-packages (from scikit-learn>=0.21.3->flair) (1.0.1)\n",
      "Requirement already satisfied: threadpoolctl>=2.0.0 in c:\\anaconda3\\lib\\site-packages (from scikit-learn>=0.21.3->flair) (2.1.0)\n",
      "Requirement already satisfied: typing-extensions in c:\\anaconda3\\lib\\site-packages (from torch!=1.8,>=1.5.0->flair) (3.7.4.3)\n",
      "Requirement already satisfied: pyyaml>=5.1 in c:\\anaconda3\\lib\\site-packages (from transformers>=4.0.0->flair) (5.4.1)\n",
      "Requirement already satisfied: tokenizers!=0.11.3,<0.13,>=0.11.1 in c:\\anaconda3\\lib\\site-packages (from transformers>=4.0.0->flair) (0.12.1)\n",
      "Requirement already satisfied: packaging>=20.0 in c:\\anaconda3\\lib\\site-packages (from transformers>=4.0.0->flair) (20.9)\n",
      "Requirement already satisfied: sacremoses in c:\\anaconda3\\lib\\site-packages (from transformers>=4.0.0->flair) (0.0.49)\n",
      "Requirement already satisfied: wcwidth>=0.2.5 in c:\\anaconda3\\lib\\site-packages (from ftfy->flair) (0.2.5)\n",
      "Requirement already satisfied: PySocks!=1.5.7,>=1.5.6 in c:\\anaconda3\\lib\\site-packages (from requests[socks]->gdown==3.12.2->flair) (1.7.1)\n",
      "Requirement already satisfied: click in c:\\anaconda3\\lib\\site-packages (from sacremoses->transformers>=4.0.0->flair) (7.1.2)\n"
     ]
    }
   ],
   "source": [
    "!pip install flair\n"
   ]
  },
  {
   "cell_type": "code",
   "execution_count": 8,
   "id": "8db2549b",
   "metadata": {},
   "outputs": [],
   "source": [
    "from flair.models import TextClassifier\n",
    "from flair.data import Sentence"
   ]
  },
  {
   "cell_type": "code",
   "execution_count": null,
   "id": "99b813a5",
   "metadata": {},
   "outputs": [
    {
     "name": "stdout",
     "output_type": "stream",
     "text": [
      "2022-04-27 19:58:34,610 loading file C:\\Users\\elopez\\.flair\\models\\sentiment-en-mix-distillbert_4.pt\n"
     ]
    }
   ],
   "source": [
    "classifier = TextClassifier.load('en-sentiment')"
   ]
  },
  {
   "cell_type": "code",
   "execution_count": null,
   "id": "249cc293",
   "metadata": {},
   "outputs": [],
   "source": [
    "\n",
    "def apply_fair(x):\n",
    "    sentence = Sentence(x)\n",
    "    classifier.predict(sentence)\n",
    "    return sentence.labels[0].to_dict()['confidence']"
   ]
  },
  {
   "cell_type": "code",
   "execution_count": null,
   "id": "f7a52f40",
   "metadata": {},
   "outputs": [],
   "source": [
    "apply_fair('The food was great!')\n",
    "\n"
   ]
  },
  {
   "cell_type": "code",
   "execution_count": null,
   "id": "c7712e36",
   "metadata": {},
   "outputs": [],
   "source": [
    "df['flair'] = df['news'].apply(lambda x: apply_fair(x))"
   ]
  },
  {
   "cell_type": "code",
   "execution_count": null,
   "id": "af1d890b",
   "metadata": {},
   "outputs": [],
   "source": [
    "df"
   ]
  },
  {
   "cell_type": "markdown",
   "id": "437df233",
   "metadata": {},
   "source": [
    "### FinBERT Sentiment Analysis\n",
    "ref: https://wandb.ai/ivangoncharov/FinBERT_Sentiment_Analysis_Project/reports/Financial-Sentiment-Analysis-on-Stock-Market-Headlines-With-FinBERT-Hugging-Face--VmlldzoxMDQ4NjM0\n",
    "\n",
    "HuggingFace makes it really easy for us to try out different NLP models. We can find the FinBERT model on the HuggingFace model hub (https://huggingface.co/ProsusAI/finbert) & even run a test inference using a little text box right on their website (https://huggingface.co/ProsusAI/finbert)! "
   ]
  },
  {
   "cell_type": "code",
   "execution_count": null,
   "id": "1141366a",
   "metadata": {},
   "outputs": [],
   "source": [
    "!pip install transformers"
   ]
  },
  {
   "cell_type": "code",
   "execution_count": null,
   "id": "951279b9",
   "metadata": {},
   "outputs": [],
   "source": [
    "from transformers import AutoTokenizer, AutoModelForSequenceClassification\n",
    "  \n",
    "tokenizer = AutoTokenizer.from_pretrained(\"ProsusAI/finbert\")\n",
    "model = AutoModelForSequenceClassification.from_pretrained(\"ProsusAI/finbert\")"
   ]
  },
  {
   "cell_type": "code",
   "execution_count": null,
   "id": "fa1aaa85",
   "metadata": {},
   "outputs": [],
   "source": [
    "import torch\n",
    "\n",
    "def apply_finbert(x):\n",
    "#    return (0,1,2)\n",
    "    inputs = tokenizer([x], padding = True, truncation = True, return_tensors='pt')\n",
    "    outputs = model(**inputs)\n",
    "    predictions = torch.nn.functional.softmax(outputs.logits, dim=1) \n",
    "    return predictions[:, 0].tolist()[0], predictions[:, 1].tolist()[0], predictions[:, 2].tolist()[0]\n",
    "\n",
    "#    if  (predictions[:, 0].tolist() > predictions[:, 1].tolist()\\\n",
    "#        and predictions[:, 0].tolist() > predictions[:, 2].tolist()):# Returns a greater than 1 if it is positive \n",
    "#        return 1 + predictions[:, 0].tolist()[0]\n",
    "#    elif (predictions[:, 1].tolist() > predictions[:, 0].tolist()\\\n",
    "#        and predictions[:, 1].tolist() > predictions[:, 2].tolist()):# Returns a number smaller than 1 if it is negative\n",
    "#        return predictions[:, 0].tolist()[0]\n",
    "#    else:\n",
    "#        return predictions[:, 2].tolist()[0]\n",
    "\n",
    "\n",
    "\n",
    "apply_finbert(df.iloc[0,2])"
   ]
  },
  {
   "cell_type": "code",
   "execution_count": null,
   "id": "0c1515d4",
   "metadata": {},
   "outputs": [],
   "source": [
    "#apply_finbert(df.iloc[0,2])[:, 2].tolist() + apply_finbert(df.iloc[0,2])[:, 0].tolist() + apply_finbert(df.iloc[0,2])[:, 1].tolist()  "
   ]
  },
  {
   "cell_type": "code",
   "execution_count": null,
   "id": "c44d5cba",
   "metadata": {},
   "outputs": [],
   "source": [
    "df['finbert_positive'],df['finbert_negative'],df['finbert_neutral'] = zip(*df['news'].apply(lambda x: apply_finbert(x)))\n"
   ]
  },
  {
   "cell_type": "code",
   "execution_count": null,
   "id": "3de27bfd",
   "metadata": {},
   "outputs": [],
   "source": [
    "df"
   ]
  },
  {
   "cell_type": "markdown",
   "id": "12448182",
   "metadata": {},
   "source": [
    "## 3.0 - Performing Comparison\n",
    "### 3.1 - Finiding the best but-off for each Sentimental Analysis for all days and news"
   ]
  },
  {
   "cell_type": "code",
   "execution_count": null,
   "id": "1bee7df0",
   "metadata": {},
   "outputs": [],
   "source": [
    "#df['finbert_negative'] = -df['finbert_negative']\n",
    "# Best finbert compound! Tried many combinations!\n",
    "df['finbert'] = df['finbert_positive']-df['finbert_negative']+df['finbert_neutral']\n",
    "df['finbert_negative'] = -df['finbert_negative'] #Turnig negative Finbert around"
   ]
  },
  {
   "cell_type": "code",
   "execution_count": null,
   "id": "6efd6bd8",
   "metadata": {},
   "outputs": [],
   "source": [
    "y = df['final_manual_labelling']"
   ]
  },
  {
   "cell_type": "code",
   "execution_count": null,
   "id": "1edec737",
   "metadata": {},
   "outputs": [],
   "source": [
    "y_positive_or_else = df['final_manual_labelling'].apply(lambda x: 1 if x > 0 else 0)\n",
    "y_else_or_negative = df['final_manual_labelling'].apply(lambda x: 0 if x < 0 else 1)"
   ]
  },
  {
   "cell_type": "code",
   "execution_count": null,
   "id": "e6eba951",
   "metadata": {},
   "outputs": [],
   "source": [
    "#https://machinelearningmastery.com/threshold-moving-for-imbalanced-classification/\n",
    "from sklearn.metrics import roc_curve, confusion_matrix"
   ]
  },
  {
   "cell_type": "code",
   "execution_count": null,
   "id": "d32172bd",
   "metadata": {},
   "outputs": [],
   "source": [
    "best_negative_threshold, best_positive_threshold = 0, 0\n",
    "def apply_cutoff(x):\n",
    "    \n",
    "    if x < best_negative_threshold:\n",
    "        return -1\n",
    "    elif x > best_positive_threshold:\n",
    "        return 1\n",
    "    else:\n",
    "        return 0\n",
    "\n",
    "from numpy import sqrt, argmax\n",
    "from numpy import sqrt, argmax\n",
    "from sklearn.metrics import accuracy_score, classification_report\n",
    "for prediction_name in ['vader','textblob','flair','finbert_positive','finbert_negative','finbert_neutral','finbert']:\n",
    "    fpr, tpr, thresholds = roc_curve(y_positive_or_else, df[prediction_name])\n",
    "    gmeans = sqrt(tpr * (1-fpr))\n",
    "    ix = argmax(gmeans)\n",
    "    best_positive_threshold = thresholds[ix]\n",
    "    best_positive_threshold\n",
    "\n",
    "    fpr, tpr, thresholds = roc_curve(y_else_or_negative, df[prediction_name])\n",
    "    \n",
    "    gmeans = sqrt(tpr * (1-fpr))\n",
    "    ix = argmax(gmeans)\n",
    "    best_negative_threshold = thresholds[ix]\n",
    "    \n",
    "    \n",
    "    df[prediction_name+\"_class\"] = df[prediction_name].apply(apply_cutoff)\n",
    "    \n",
    "    accuracy = accuracy_score(y, df[prediction_name+\"_class\"])\n",
    "    \n",
    "    print(\"prediction_name=\",prediction_name)\n",
    "    print(\"best_negative_threshold =\", best_negative_threshold, \" / best_positive_threshold =\", \\\n",
    "          best_positive_threshold, \" / accuracy =\", accuracy)\n",
    "    print(\"classification_report:\")\n",
    "    print(classification_report(y, df[prediction_name+\"_class\"]))\n",
    "    print(\"confusion_matrix - counts:\")\n",
    "    print(confusion_matrix(y, df[prediction_name+\"_class\"]))#, normalize='all'))\n",
    "    print(\"confusion_matrix - percentage of total:\")\n",
    "    print(confusion_matrix(y, df[prediction_name+\"_class\"], normalize='all'))\n",
    "    print(\"-\"*50)"
   ]
  },
  {
   "cell_type": "markdown",
   "id": "874f8648",
   "metadata": {},
   "source": [
    "### 3.2 - Finiding the best but-off for each Sentimental Analysis for ONLY RELEVANT days ACCORDING TO FAMA FRENCH, for this group we use "
   ]
  },
  {
   "cell_type": "code",
   "execution_count": null,
   "id": "5b94ff4f",
   "metadata": {},
   "outputs": [],
   "source": [
    "df=df[df['type_abnormal_return_fama_frech']!=0]"
   ]
  },
  {
   "cell_type": "code",
   "execution_count": null,
   "id": "615b5902",
   "metadata": {},
   "outputs": [],
   "source": [
    "def remain_if_coincident(x,y):\n",
    "    if x!=y:\n",
    "        return 0\n",
    "    else:\n",
    "        return x"
   ]
  },
  {
   "cell_type": "code",
   "execution_count": null,
   "id": "dee063ee",
   "metadata": {},
   "outputs": [],
   "source": [
    "import numpy as np\n",
    "df['coincident_final_manual_labelling'] = np.vectorize(remain_if_coincident)(df['final_manual_labelling'],df['type_abnormal_return_fama_frech'])"
   ]
  },
  {
   "cell_type": "code",
   "execution_count": null,
   "id": "846e6cd3",
   "metadata": {},
   "outputs": [],
   "source": [
    "y = df['coincident_final_manual_labelling']\n",
    "y_positive_or_else = df['final_manual_labelling'].apply(lambda x: 1 if x > 0 else 0)\n",
    "y_else_or_negative = df['final_manual_labelling'].apply(lambda x: 0 if x < 0 else 1)"
   ]
  },
  {
   "cell_type": "code",
   "execution_count": null,
   "id": "7b8c7555",
   "metadata": {},
   "outputs": [],
   "source": [
    "best_negative_threshold, best_positive_threshold = 0, 0\n",
    "def apply_cutoff(x):\n",
    "    \n",
    "    if x < best_negative_threshold:\n",
    "        return -1\n",
    "    elif x > best_positive_threshold:\n",
    "        return 1\n",
    "    else:\n",
    "        return 0\n",
    "\n",
    "from numpy import sqrt, argmax\n",
    "from numpy import sqrt, argmax\n",
    "from sklearn.metrics import accuracy_score, classification_report\n",
    "for prediction_name in ['vader','textblob','flair','finbert_positive','finbert_negative','finbert_neutral','finbert']:\n",
    "    fpr, tpr, thresholds = roc_curve(y_positive_or_else, df[prediction_name])\n",
    "    gmeans = sqrt(tpr * (1-fpr))\n",
    "    ix = argmax(gmeans)\n",
    "    best_positive_threshold = thresholds[ix]\n",
    "    best_positive_threshold\n",
    "\n",
    "    fpr, tpr, thresholds = roc_curve(y_else_or_negative, df[prediction_name])\n",
    "    \n",
    "    gmeans = sqrt(tpr * (1-fpr))\n",
    "    ix = argmax(gmeans)\n",
    "    best_negative_threshold = thresholds[ix]\n",
    "    \n",
    "    \n",
    "    df[prediction_name+\"_class\"] = df[prediction_name].apply(apply_cutoff)\n",
    "    \n",
    "    accuracy = accuracy_score(y, df[prediction_name+\"_class\"])\n",
    "    \n",
    "    print(\"prediction_name=\",prediction_name)\n",
    "    print(\"best_negative_threshold =\", best_negative_threshold, \" / best_positive_threshold =\", \\\n",
    "          best_positive_threshold, \" / accuracy =\", accuracy)\n",
    "    print(\"classification_report:\")\n",
    "    print(classification_report(y, df[prediction_name+\"_class\"]))\n",
    "    print(\"confusion_matrix - counts:\")\n",
    "    print(confusion_matrix(y, df[prediction_name+\"_class\"]))#, normalize='all'))\n",
    "    print(\"confusion_matrix - percentage of total:\")\n",
    "    print(confusion_matrix(y, df[prediction_name+\"_class\"], normalize='all'))\n",
    "    print(\"-\"*50)"
   ]
  },
  {
   "cell_type": "code",
   "execution_count": null,
   "id": "19d921ce",
   "metadata": {},
   "outputs": [],
   "source": []
  },
  {
   "cell_type": "code",
   "execution_count": null,
   "id": "4e0abd2d",
   "metadata": {},
   "outputs": [],
   "source": []
  }
 ],
 "metadata": {
  "kernelspec": {
   "display_name": "Python 3 (ipykernel)",
   "language": "python",
   "name": "python3"
  },
  "language_info": {
   "codemirror_mode": {
    "name": "ipython",
    "version": 3
   },
   "file_extension": ".py",
   "mimetype": "text/x-python",
   "name": "python",
   "nbconvert_exporter": "python",
   "pygments_lexer": "ipython3",
   "version": "3.9.7"
  }
 },
 "nbformat": 4,
 "nbformat_minor": 5
}
