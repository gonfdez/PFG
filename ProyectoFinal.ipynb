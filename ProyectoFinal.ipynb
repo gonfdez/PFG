{
 "cells": [
  {
   "cell_type": "markdown",
   "metadata": {},
   "source": [
    "# Proyecto Final\n",
    "## Procesamiento de Datos\n",
    "##### Gonzalo Fernández Suárez\n",
    "\n",
    "---\n",
    "\n",
    "1) Crear un CALLER para descargar noticias de Cryptomonedas (2.0 puntos de 10)\n",
    "\n",
    "1.1 - Conectarse a la API de twitters para descargar tweets sobre Cryptomonedas (0.5 puntos de 10).\n",
    "\n",
    "1.2 - Conectarse a la API de Gdelt para descargar noticias sobre Cryptomonedas (0.5 puntos de 10).\n",
    "\n",
    "1.3 - Scrapear la web https://coinmarketcal.com/en/news para descargar noticicas sobre Cryptomonedas (1.0 puntos de 10).\n",
    "\n",
    "2) Crear un SERVER de Spark Streamming (1 puntos de 10)\n",
    "\n",
    "3) Hacer un analisis de los mensajes en directo en clase, con ventana de tiempo (1 puntos de 10)\n",
    "\n",
    "4) Aplicar un modelo de analisis de sentimiento (2.5 puntos de 10)\n",
    "\n",
    "4.1 - Aplicar uno de los modelo como Vader Sentiment Analysis, textblob, flair o FinBERT (+0.5 puntos de 10).\n",
    "\n",
    "4.2 - Aplicar todos los modelo: Vader Sentiment Analysis, textblob, flair y FinBERT (+0.5 puntos de 10).\n",
    "\n",
    "4.3 - Crear un modelo de machine learning propio y aplicar dicho modelo a los mensajes (+1.5 puntos de 10).\n",
    "\n",
    "Utilizando los siguientes datos etiquetados manualmente:\n",
    "20220421_FULLDATASET_FOR_UTAD.csv\n",
    "\n",
    "4.3.1 - Utilizar news como texto y final_manual_labelling como variable target para vuestro modelo!\n",
    "\n",
    " \n",
    "\n",
    "5) Guardar los datos del SERVER en SQL marcados por tiempo (1.0 puntos de 10)\n",
    "\n",
    "6) Presentar gráficas de evolución de los sentimiento y comparativa (1.5 puntos de 10)\n",
    "\n",
    "6.1 - Presentar gráficas de evolución de los sentimiento, uno de los modelo como Vader Sentiment Analysis, textblob y flair (+1.0 puntos de 10).\n",
    "\n",
    "6.2 - Presentar gráficas de evolución de los sentimiento de todos los modelo: Vader Sentiment Analysis, textblob y flair (+0.5 puntos de 10).\n",
    "\n",
    "7) Incluir en la comparativa tu propio modelo, y ganas nota máxima si tu modelo es mejeor que los anteriores (+1.0 puntos de 10)."
   ]
  },
  {
   "cell_type": "markdown",
   "metadata": {},
   "source": [
    "[Tutorial instalacion spark](https://phoenixnap.com/kb/install-spark-on-windows-10).\n",
    "El link de Java esta mal, descargar JDK no JRE\n",
    "\n",
    "[Runear spark](https://aamargajbhiye.medium.com/apache-spark-setup-a-multi-node-standalone-cluster-on-windows-63d413296971)\n",
    "```\n",
    "cmd >> cd C:\\Users\\User\\Desktop\\U-Tad\\Procesamiento de Datos\\spark-3.2.1-bin-hadoop3.2\n",
    "\n",
    "# Levantar Master Node\n",
    "cmd >> bin\\spark-class org.apache.spark.deploy.master.Master --host localhost\n",
    "```\n",
    "http://DESKTOP-GFS:8080\n",
    "\n",
    "```\n",
    "# Poner a escuchar al Worker Node\n",
    "cmd >> bin\\spark-class org.apache.spark.deploy.worker.Worker spark://localhost:7077 --host localhost\n",
    "```"
   ]
  },
  {
   "cell_type": "markdown",
   "metadata": {},
   "source": [
    "# Aplicacion PYTHON\n",
    "\n",
    "## 2. CREACION DE SERVER DE SPARK STREAMING"
   ]
  },
  {
   "cell_type": "code",
   "execution_count": null,
   "metadata": {},
   "outputs": [],
   "source": [
    "from pyspark import SparkContext\n",
    "from pyspark.streaming import StreamingContext\n",
    "\n",
    "# Inicializamos el Contexto\n",
    "sc = SparkContext(\"local[2]\" , \"NetworkWordCount\" ) # Master y nombre de la app\n",
    "ssc = StreamingContext(sc, 10) # Contexto de streaming, contexto de spark y cada cuanto se repite el proceso\n",
    "\n",
    "# Origen de datos\n",
    "lines = ssc.socketTextStream(\"localhost\", 9090)"
   ]
  },
  {
   "cell_type": "code",
   "execution_count": null,
   "metadata": {},
   "outputs": [],
   "source": []
  },
  {
   "cell_type": "code",
   "execution_count": null,
   "metadata": {},
   "outputs": [],
   "source": []
  }
 ],
 "metadata": {
  "interpreter": {
   "hash": "aecd030d4c8316a52bf122072e28f84bcc79844c2684e041fef2e3f1d9f59078"
  },
  "kernelspec": {
   "display_name": "Python 3.10.1 64-bit",
   "language": "python",
   "name": "python3"
  },
  "language_info": {
   "codemirror_mode": {
    "name": "ipython",
    "version": 3
   },
   "file_extension": ".py",
   "mimetype": "text/x-python",
   "name": "python",
   "nbconvert_exporter": "python",
   "pygments_lexer": "ipython3",
   "version": "3.10.1"
  },
  "orig_nbformat": 4
 },
 "nbformat": 4,
 "nbformat_minor": 2
}
