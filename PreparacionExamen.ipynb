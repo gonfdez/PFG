{
 "cells": [
  {
   "cell_type": "markdown",
   "metadata": {},
   "source": [
    "# Preparación Examen Final Procesamiento de Datos\n",
    "\n",
    "**ENUNCIADO**\n",
    "\n",
    "Preguntas (máximo 10 puntos posibles):\n",
    "Leer los datos del fichero X (2.0 puntos)\n",
    "Se proporcionaran 2 ficheros, uno con 5% de los datos y otro con 100% de los datos (gigante!!!!!)\n",
    "\n",
    "\n",
    "Limpiar los datos (1.0 punto)\n",
    "Reemplazar NaN por 0 si el campo es numerico y texto blanco si se trata de un texto del dataframe, utilizar para eso UDF (función de Python) y aplicarla al DataFrame de Spark.\n",
    "\n",
    "\n",
    "Utilizando ambos SPARK-API y SPARK-SQL hacer EDA y contestar una pregunta (y gráficas si cabe).(2.0 puntos)\n",
    "Siempre en PySpark, hacer el EDA que considerese necesario para contestar las siguientes preguntas: X, Y y Z\n",
    "\n",
    "\n",
    "Desarrollar un modelo de clasificación utilizando Spark-ML para predecir especificamente la variable X = \"Blah\" ( o sea Logistic Regression) (3.0 puntos)\n",
    "\n",
    "Finalmente, contestar unas preguntas teóricas . (2.0 puntos)"
   ]
  },
  {
   "cell_type": "markdown",
   "metadata": {},
   "source": [
    "### Inicializacion de Spark"
   ]
  },
  {
   "cell_type": "code",
   "execution_count": 20,
   "metadata": {},
   "outputs": [],
   "source": [
    "# Librerias\n",
    "import pandas as pd\n",
    "import findspark\n",
    "import pyspark\n",
    "from pyspark import SparkContext\n",
    "from pyspark.sql import SQLContext \n",
    "from pyspark.sql.session import SparkSession"
   ]
  },
  {
   "cell_type": "code",
   "execution_count": 18,
   "metadata": {},
   "outputs": [
    {
     "name": "stderr",
     "output_type": "stream",
     "text": [
      "C:\\Users\\gonef\\AppData\\Local\\Packages\\PythonSoftwareFoundation.Python.3.10_qbz5n2kfra8p0\\LocalCache\\local-packages\\Python310\\site-packages\\pyspark\\sql\\context.py:77: FutureWarning: Deprecated in 3.0.0. Use SparkSession.builder.getOrCreate() instead.\n",
      "  warnings.warn(\n"
     ]
    }
   ],
   "source": [
    "# Spark Context y SQLContext\n",
    "findspark.init()\n",
    "sc = SparkContext(appName=\"Examen\")\n",
    "spark = SparkSession(sc)\n",
    "sql = SQLContext(sc)"
   ]
  },
  {
   "cell_type": "code",
   "execution_count": 17,
   "metadata": {},
   "outputs": [
    {
     "ename": "NameError",
     "evalue": "name 'sc' is not defined",
     "output_type": "error",
     "traceback": [
      "\u001b[1;31m---------------------------------------------------------------------------\u001b[0m",
      "\u001b[1;31mNameError\u001b[0m                                 Traceback (most recent call last)",
      "\u001b[1;32mc:\\Users\\gonef\\Desktop\\U-tad\\3º\\Procesamiento de Datos\\Examen Final\\PreparacionExamen.ipynb Cell 5'\u001b[0m in \u001b[0;36m<cell line: 2>\u001b[1;34m()\u001b[0m\n\u001b[0;32m      <a href='vscode-notebook-cell:/c%3A/Users/gonef/Desktop/U-tad/3%C2%BA/Procesamiento%20de%20Datos/Examen%20Final/PreparacionExamen.ipynb#ch0000004?line=0'>1</a>\u001b[0m \u001b[39m# Close Spark Context\u001b[39;00m\n\u001b[1;32m----> <a href='vscode-notebook-cell:/c%3A/Users/gonef/Desktop/U-tad/3%C2%BA/Procesamiento%20de%20Datos/Examen%20Final/PreparacionExamen.ipynb#ch0000004?line=1'>2</a>\u001b[0m sc\u001b[39m.\u001b[39mstop()\n",
      "\u001b[1;31mNameError\u001b[0m: name 'sc' is not defined"
     ]
    }
   ],
   "source": [
    "# Close Spark Context\n",
    "sc.stop()"
   ]
  },
  {
   "cell_type": "markdown",
   "metadata": {},
   "source": [
    "## 1º   LEER DATOS DEL FICHERO"
   ]
  },
  {
   "cell_type": "markdown",
   "metadata": {},
   "source": [
    "### .txt"
   ]
  },
  {
   "cell_type": "code",
   "execution_count": 8,
   "metadata": {},
   "outputs": [
    {
     "data": {
      "text/plain": [
       "pyspark.rdd.RDD"
      ]
     },
     "execution_count": 8,
     "metadata": {},
     "output_type": "execute_result"
    }
   ],
   "source": [
    "# SI EL FICHERO ES UN TXT\n",
    "inputTxt=\"apache.log\"\n",
    "lines = sc.textFile(inputTxt)\n",
    "# firstLines = sc.textFile(inputTxt).take(10) \n",
    "type(lines)\n",
    "# Si hay un error al leer el fichero no saltara porque Spark es Lazy Evaluated. No habria error y no esta leyendo el fichero en verdad"
   ]
  },
  {
   "cell_type": "code",
   "execution_count": 10,
   "metadata": {},
   "outputs": [
    {
     "data": {
      "text/plain": [
       "['in24.inetnebr.com;-;-;1995-08-01 00:00:01;GET;/shuttle/missions/sts-68/news/sts-68-mcc-05.txt;HTTP/1.0;200;1839',\n",
       " 'uplherc.upl.com ;-;-;1995-08-01 00:00:07;GET;/;HTTP/1.0;304;0',\n",
       " 'uplherc.upl.com;-;-;1995-08-01 00:00:08;GET;/images/ksclogo-medium.gif;HTTP/1.0;304;0']"
      ]
     },
     "execution_count": 10,
     "metadata": {},
     "output_type": "execute_result"
    }
   ],
   "source": [
    "# Comprobacion rapida de que lo ha leido correctamente\n",
    "# lines.collect() # returns a list with the whole rdd()\n",
    "lines.take(3) # Es mejor porque solo traes 5 lineas a Python no el RDD completo"
   ]
  },
  {
   "cell_type": "code",
   "execution_count": null,
   "metadata": {},
   "outputs": [],
   "source": [
    "# Convertir RDD a Spark Data Frame\n",
    "# in24.inetnebr.com;-;-;1995-08-01 00:00:01;GET;/shuttle/missions/sts-68/news/sts-68-mcc-05.txt;HTTP/1.0;200;1839\n",
    "df_columns = ['Dominio','Valor1','Valor2','FechaHora','Peticion','Path','Protocolo','Status','NºPeticiones']\n",
    "dfSparkTxt = lines.toDF(df_columns) # No funciona, deberia estar dividido en tuplas, con los distintos valores de cada columna, el rdd\n",
    "dfSparkTxt.show()"
   ]
  },
  {
   "cell_type": "markdown",
   "metadata": {},
   "source": [
    "### .xlsx o .csv"
   ]
  },
  {
   "cell_type": "code",
   "execution_count": null,
   "metadata": {},
   "outputs": [],
   "source": [
    "# Si es un csv\n",
    "inputCSV=\"\"\n",
    "df = spark.read.csv(inputCSV,inferSchema=True,header=True)"
   ]
  },
  {
   "cell_type": "code",
   "execution_count": 21,
   "metadata": {},
   "outputs": [],
   "source": [
    "from pyspark.sql.types import *\n",
    "\n",
    "# SI EL FICHERO ES UN EXCEL (.xlsx)\n",
    "# 1º PASO: Lo leemos como data frame de pandas\n",
    "# .xlsx\n",
    "inputExcel=\"CryptoLin_Test_Examen.xlsx\"\n",
    "df = pd.read_excel(inputExcel)\n",
    "\n",
    "# Leer .csv sin spark session \n",
    "# inputCSV=\"\"\n",
    "# df = pd.read_csv(inputCSV)\n",
    "\n",
    "# 2º PASO: Definimos la estructura del Data Frame\n",
    "schema = StructType([StructField(\"Unnamed\", IntegerType(), True)\n",
    "                    ,StructField(\"id\", IntegerType(), True)\n",
    "                    ,StructField(\"date\", StringType(), True)#,StructField(\"date\", DateType(), True)\n",
    "                    ,StructField(\"news\", StringType(), True)\n",
    "                    ,StructField(\"final_manual_labelling\", IntegerType(), True)\n",
    "                    ,StructField(\"text_span\", StringType(), True)\n",
    "                    ,StructField(\"type_abnormal_return_fama_frech\", IntegerType(), True)\n",
    "                    ,StructField(\"Columna_NaN\", FloatType(), True)\n",
    "                    ,StructField(\"Texto_blanco\", StringType(), True)\n",
    "                    ])\n",
    "                    \n",
    "# 3º PASO: Lo convertimos de df de pandas a df de PySpark\n",
    "dfSpark = sql.createDataFrame(df, schema=schema)"
   ]
  },
  {
   "cell_type": "code",
   "execution_count": 14,
   "metadata": {},
   "outputs": [
    {
     "name": "stdout",
     "output_type": "stream",
     "text": [
      "<class 'pyspark.sql.dataframe.DataFrame'>\n",
      "Number of rows 2683\n",
      "Number of columns 9\n",
      "+-------+---+---------+--------------------+----------------------+--------------------+-------------------------------+-----------+------------+\n",
      "|Unnamed| id|     date|                news|final_manual_labelling|           text_span|type_abnormal_return_fama_frech|Columna_NaN|Texto_blanco|\n",
      "+-------+---+---------+--------------------+----------------------+--------------------+-------------------------------+-----------+------------+\n",
      "|      0|  0|1/25/2022|Ripple announces ...|                     1|{annotator1_id:6;...|                              0|       52.0|         NaN|\n",
      "|      1|  1|1/25/2022|IMF directors urg...|                    -1|{annotator1_id:16...|                              0|        NaN|         NaN|\n",
      "|      2|  2|1/25/2022|Dragonfly Capital...|                     1|{annotator1_id:22...|                              0|        2.0|         NaN|\n",
      "|      3|  3|1/25/2022|Rick and Morty co...|                     0|{annotator1_id:15...|                              0|        NaN|         NaN|\n",
      "|      4|  4|1/25/2022|How fintech SPACs...|                     0|{annotator1_id:8;...|                              0|        NaN|   testeando|\n",
      "|      5|  5|1/25/2022|Multichain vulner...|                    -1|{annotator1_id:8;...|                              0|       14.0|         NaN|\n",
      "|      6|  6|1/25/2022|YouTube wants to ...|                     0|{annotator1_id:21...|                              0|        NaN|         NaN|\n",
      "|      7|  7|1/25/2022|OpenSea is reimbu...|                     0|{annotator1_id:16...|                              0|        NaN|         ola|\n",
      "|      8|  8|1/25/2022|GoodDollar Launch...|                     1|{annotator1_id:8;...|                              0|        NaN|         NaN|\n",
      "|      9|  9|1/25/2022|BCB Group raises ...|                     1|{annotator1_id:15...|                              0|        NaN|         NaN|\n",
      "+-------+---+---------+--------------------+----------------------+--------------------+-------------------------------+-----------+------------+\n",
      "only showing top 10 rows\n",
      "\n"
     ]
    }
   ],
   "source": [
    "# Comprobacion de que lo ha leido correctamente\n",
    "print(type(dfSpark))\n",
    "print('Number of rows {}'.format(dfSpark.count()))\n",
    "print('Number of columns {}'.format(len(dfSpark.columns)))\n",
    "dfSpark.show(10)"
   ]
  },
  {
   "cell_type": "markdown",
   "metadata": {},
   "source": [
    "## 2º LIMPIAR DATOS"
   ]
  },
  {
   "cell_type": "markdown",
   "metadata": {},
   "source": [
    "Reemplazar NaN por 0 si el campo es numerico y texto blanco si se trata de un texto del dataframe, utilizar para eso UDF (función de Python) y aplicarla al DataFrame de Spark.\n",
    "\n",
    "[PySpark When Otherwise](https://sparkbyexamples.com/pyspark/pyspark-when-otherwise/)"
   ]
  },
  {
   "cell_type": "code",
   "execution_count": null,
   "metadata": {},
   "outputs": [
    {
     "name": "stdout",
     "output_type": "stream",
     "text": [
      "+-------+---+---------+--------------------+----------------------+--------------------+-------------------------------+-----------+------------+\n",
      "|Unnamed| id|     date|                news|final_manual_labelling|           text_span|type_abnormal_return_fama_frech|Columna_NaN|Texto_blanco|\n",
      "+-------+---+---------+--------------------+----------------------+--------------------+-------------------------------+-----------+------------+\n",
      "|      0|  0|1/25/2022|Ripple announces ...|                     1|{annotator1_id:6;...|                              0|       52.0|         NaN|\n",
      "|      1|  1|1/25/2022|IMF directors urg...|                    -1|{annotator1_id:16...|                              0|        NaN|         NaN|\n",
      "|      2|  2|1/25/2022|Dragonfly Capital...|                     1|{annotator1_id:22...|                              0|        2.0|         NaN|\n",
      "|      3|  3|1/25/2022|Rick and Morty co...|                     0|{annotator1_id:15...|                              0|        NaN|         NaN|\n",
      "|      4|  4|1/25/2022|How fintech SPACs...|                     0|{annotator1_id:8;...|                              0|        NaN|   testeando|\n",
      "|      5|  5|1/25/2022|Multichain vulner...|                    -1|{annotator1_id:8;...|                              0|       14.0|         NaN|\n",
      "|      6|  6|1/25/2022|YouTube wants to ...|                     0|{annotator1_id:21...|                              0|        NaN|         NaN|\n",
      "|      7|  7|1/25/2022|OpenSea is reimbu...|                     0|{annotator1_id:16...|                              0|        NaN|         ola|\n",
      "|      8|  8|1/25/2022|GoodDollar Launch...|                     1|{annotator1_id:8;...|                              0|        NaN|         NaN|\n",
      "|      9|  9|1/25/2022|BCB Group raises ...|                     1|{annotator1_id:15...|                              0|        NaN|         NaN|\n",
      "+-------+---+---------+--------------------+----------------------+--------------------+-------------------------------+-----------+------------+\n",
      "only showing top 10 rows\n",
      "\n"
     ]
    }
   ],
   "source": [
    "dfSpark.show(10)"
   ]
  },
  {
   "cell_type": "markdown",
   "metadata": {},
   "source": [
    "Las columnas: Columna_NaN y Texto_blanco de 'dfSpark' estan con valores NaN.\n",
    "Cambiamos valor numerico NaN a 0. Y valor de String NaN a \"\". (También cambia null, por si acaso)"
   ]
  },
  {
   "cell_type": "code",
   "execution_count": null,
   "metadata": {},
   "outputs": [],
   "source": [
    "from pyspark.sql.functions import when, isnan"
   ]
  },
  {
   "cell_type": "code",
   "execution_count": 15,
   "metadata": {},
   "outputs": [],
   "source": [
    "def limpiarDF_Col_Numerica(df, colName, dfCol):\n",
    "    dfResult = df.withColumn(colName,   when( dfCol.isNull() | isnan(dfCol), 0 )\n",
    "                                        .otherwise(dfCol)) # Genera una columna llamada 'colName' comprobando la columna dfCol\n",
    "    return dfResult                                        # si el valor es NaN o null guarda 0 en la nueva columna, si tiene \n",
    "                                                           # valor no lo modifica y lo guarda en la nueva columna. Si 'colName' ya existe\n",
    "                                                           # sobreescribe la columna"
   ]
  },
  {
   "cell_type": "code",
   "execution_count": 16,
   "metadata": {},
   "outputs": [],
   "source": [
    "def limpiarDF_Col_Str(df, colName, dfCol):\n",
    "    dfResult = df.withColumn(colName,   when( dfCol.isNull() | isnan(dfCol), \"\" )\n",
    "                                        .otherwise(dfCol))\n",
    "    return dfResult"
   ]
  },
  {
   "cell_type": "code",
   "execution_count": 17,
   "metadata": {},
   "outputs": [],
   "source": [
    "dfLimpio = limpiarDF_Col_Numerica(dfSpark, 'Columna_NaN', dfSpark.Columna_NaN)\n",
    "dfLimpio = limpiarDF_Col_Str(dfLimpio, 'Texto_blanco', dfLimpio.Texto_blanco)"
   ]
  },
  {
   "cell_type": "code",
   "execution_count": 18,
   "metadata": {},
   "outputs": [
    {
     "name": "stdout",
     "output_type": "stream",
     "text": [
      "+-------+---+---------+--------------------+----------------------+--------------------+-------------------------------+-----------+------------+\n",
      "|Unnamed| id|     date|                news|final_manual_labelling|           text_span|type_abnormal_return_fama_frech|Columna_NaN|Texto_blanco|\n",
      "+-------+---+---------+--------------------+----------------------+--------------------+-------------------------------+-----------+------------+\n",
      "|      0|  0|1/25/2022|Ripple announces ...|                     1|{annotator1_id:6;...|                              0|       52.0|            |\n",
      "|      1|  1|1/25/2022|IMF directors urg...|                    -1|{annotator1_id:16...|                              0|        0.0|            |\n",
      "|      2|  2|1/25/2022|Dragonfly Capital...|                     1|{annotator1_id:22...|                              0|        2.0|            |\n",
      "|      3|  3|1/25/2022|Rick and Morty co...|                     0|{annotator1_id:15...|                              0|        0.0|            |\n",
      "|      4|  4|1/25/2022|How fintech SPACs...|                     0|{annotator1_id:8;...|                              0|        0.0|   testeando|\n",
      "|      5|  5|1/25/2022|Multichain vulner...|                    -1|{annotator1_id:8;...|                              0|       14.0|            |\n",
      "|      6|  6|1/25/2022|YouTube wants to ...|                     0|{annotator1_id:21...|                              0|        0.0|            |\n",
      "|      7|  7|1/25/2022|OpenSea is reimbu...|                     0|{annotator1_id:16...|                              0|        0.0|         ola|\n",
      "|      8|  8|1/25/2022|GoodDollar Launch...|                     1|{annotator1_id:8;...|                              0|        0.0|            |\n",
      "|      9|  9|1/25/2022|BCB Group raises ...|                     1|{annotator1_id:15...|                              0|        0.0|            |\n",
      "+-------+---+---------+--------------------+----------------------+--------------------+-------------------------------+-----------+------------+\n",
      "only showing top 10 rows\n",
      "\n"
     ]
    }
   ],
   "source": [
    "# Ya esta limpio el data frame\n",
    "dfLimpio.show(10)"
   ]
  },
  {
   "cell_type": "markdown",
   "metadata": {},
   "source": [
    "## 3º SPARK-API y SPARK-SQL hacer EDA"
   ]
  },
  {
   "cell_type": "markdown",
   "metadata": {},
   "source": [
    "Utilizando ambos SPARK-API y SPARK-SQL hacer EDA y contestar una pregunta (y gráficas si cabe).(2.0 puntos)\n",
    "Siempre en PySpark, hacer el EDA que considerese necesario para contestar las siguientes preguntas: X, Y y Z\n",
    "\n",
    "- [Plotting Pyspark](https://standarderror.github.io/notes/Plotting-with-PySpark/#:~:text=PySpark%20doesn't%20have%20any,of%20Python's%20many%20plotting%20libraries.)\n",
    "\n",
    "- [PySpark SQL Tutorial](https://www.datacamp.com/cheat-sheet/pyspark-cheat-sheet-spark-dataframes-in-python)\n",
    "\n",
    "- [PySpark SQL PDF CheatSheet](http://datacamp-community-prod.s3.amazonaws.com/02213cb4-b391-4516-adcd-57243ced8eed)"
   ]
  },
  {
   "cell_type": "code",
   "execution_count": 5,
   "metadata": {},
   "outputs": [],
   "source": [
    "import matplotlib.pyplot as plt\n",
    "import seaborn as sns"
   ]
  },
  {
   "cell_type": "code",
   "execution_count": 23,
   "metadata": {},
   "outputs": [
    {
     "ename": "AttributeError",
     "evalue": "'Figure' object has no attribute 'subplots_adjst'",
     "output_type": "error",
     "traceback": [
      "\u001b[1;31m---------------------------------------------------------------------------\u001b[0m",
      "\u001b[1;31mAttributeError\u001b[0m                            Traceback (most recent call last)",
      "\u001b[1;32mc:\\Users\\gonef\\Desktop\\U-tad\\3º\\Procesamiento de Datos\\Examen Final\\PreparacionExamen.ipynb Cell 27'\u001b[0m in \u001b[0;36m<cell line: 15>\u001b[1;34m()\u001b[0m\n\u001b[0;32m     <a href='vscode-notebook-cell:/c%3A/Users/gonef/Desktop/U-tad/3%C2%BA/Procesamiento%20de%20Datos/Examen%20Final/PreparacionExamen.ipynb#ch0000063?line=12'>13</a>\u001b[0m plt\u001b[39m.\u001b[39mtight_layout()\n\u001b[0;32m     <a href='vscode-notebook-cell:/c%3A/Users/gonef/Desktop/U-tad/3%C2%BA/Procesamiento%20de%20Datos/Examen%20Final/PreparacionExamen.ipynb#ch0000063?line=13'>14</a>\u001b[0m \u001b[39m#set.set_y(0.95)\u001b[39;00m\n\u001b[1;32m---> <a href='vscode-notebook-cell:/c%3A/Users/gonef/Desktop/U-tad/3%C2%BA/Procesamiento%20de%20Datos/Examen%20Final/PreparacionExamen.ipynb#ch0000063?line=14'>15</a>\u001b[0m fig\u001b[39m.\u001b[39;49msubplots_adjst(top\u001b[39m=\u001b[39m\u001b[39m0.85\u001b[39m,hspace\u001b[39m=\u001b[39m\u001b[39m0.4\u001b[39m)\n\u001b[0;32m     <a href='vscode-notebook-cell:/c%3A/Users/gonef/Desktop/U-tad/3%C2%BA/Procesamiento%20de%20Datos/Examen%20Final/PreparacionExamen.ipynb#ch0000063?line=15'>16</a>\u001b[0m plt\u001b[39m.\u001b[39mshow()\n",
      "\u001b[1;31mAttributeError\u001b[0m: 'Figure' object has no attribute 'subplots_adjst'"
     ]
    },
    {
     "data": {
      "image/png": "[encoded data removed]",
      "text/plain": [
       "<Figure size 1800x1080 with 5 Axes>"
      ]
     },
     "metadata": {
      "needs_background": "light"
     },
     "output_type": "display_data"
    }
   ],
   "source": [
    "import matplotlib.pyplot as plt\n",
    "import seaborn as sns\n",
    "fig = plt.figure(figsize=(25,15))\n",
    "st = fig.suptitle(\"subtitulo\", fontsize=50) #verticalaligment=\"center\")\n",
    "for col, num in zip(dfSpark.toPandas().describe().columns, range(1,11)):\n",
    "    ax = fig.add_subplot(3,4,num)\n",
    "    ax.hist(dfSpark.toPandas()[col])\n",
    "    plt.grid(False)\n",
    "    plt.xticks(rotation=45, fontsize=20)\n",
    "    plt.yticks(fontsize=15)\n",
    "    plt.title(col.upper(),fontsize=20)\n",
    "\n",
    "plt.tight_layout()\n",
    "#set.set_y(0.95)\n",
    "fig.subplots_adjst(top=0.85,hspace=0.4)\n",
    "plt.show()"
   ]
  },
  {
   "cell_type": "code",
   "execution_count": null,
   "metadata": {},
   "outputs": [
    {
     "name": "stdout",
     "output_type": "stream",
     "text": [
      "+-------+----------------+----------------+--------+--------------------+----------------------+--------------------+-------------------------------+-----------+------------+\n",
      "|summary|         Unnamed|              id|    date|                news|final_manual_labelling|           text_span|type_abnormal_return_fama_frech|Columna_NaN|Texto_blanco|\n",
      "+-------+----------------+----------------+--------+--------------------+----------------------+--------------------+-------------------------------+-----------+------------+\n",
      "|  count|            2683|            2683|    2683|                2683|                  2683|                2683|                           2683|       2683|        2683|\n",
      "|   mean|          1341.0|          1341.0|    null|                null|   0.34513604174431606|                null|           -0.09914275065225493|        NaN|         NaN|\n",
      "| stddev|774.659710238416|774.659710238416|    null|                null|    0.6469120205413876|                null|             0.7208485834148687|        NaN|         NaN|\n",
      "|    min|               0|               0|1/1/2022|$2.9 billion: Bit...|                    -1|{annotator1_id:10...|                             -1|        2.0|         NaN|\n",
      "|    max|            2682|            2682|9/9/2021|£3.8 billion inve...|                     1|{annotator1_id:8;...|                              1|        NaN|   testeando|\n",
      "+-------+----------------+----------------+--------+--------------------+----------------------+--------------------+-------------------------------+-----------+------------+\n",
      "\n"
     ]
    }
   ],
   "source": [
    "# Exploratory Data Analysis, informacion de un data frame\n",
    "dfSpark.describe().show()"
   ]
  },
  {
   "cell_type": "code",
   "execution_count": null,
   "metadata": {},
   "outputs": [
    {
     "name": "stdout",
     "output_type": "stream",
     "text": [
      "+----------------------+-----+\n",
      "|final_manual_labelling|count|\n",
      "+----------------------+-----+\n",
      "|                    -1|  258|\n",
      "|                     1| 1184|\n",
      "|                     0| 1241|\n",
      "+----------------------+-----+\n",
      "\n"
     ]
    }
   ],
   "source": [
    "dfSpark.groupBy('final_manual_labelling').count().show()"
   ]
  },
  {
   "cell_type": "code",
   "execution_count": null,
   "metadata": {},
   "outputs": [
    {
     "name": "stdout",
     "output_type": "stream",
     "text": [
      "+----------------------+------------------+------------------+---------------------------+------------------------------------+----------------+\n",
      "|final_manual_labelling|      avg(Unnamed)|           avg(id)|avg(final_manual_labelling)|avg(type_abnormal_return_fama_frech)|avg(Columna_NaN)|\n",
      "+----------------------+------------------+------------------+---------------------------+------------------------------------+----------------+\n",
      "|                    -1|1291.8062015503876|1291.8062015503876|                       -1.0|                -0.11627906976744186|             NaN|\n",
      "|                     1|1358.8783783783783|1358.8783783783783|                        1.0|                -0.10810810810810811|             NaN|\n",
      "|                     0|1334.1700241740532|1334.1700241740532|                        0.0|                -0.08702659145850121|             NaN|\n",
      "+----------------------+------------------+------------------+---------------------------+------------------------------------+----------------+\n",
      "\n"
     ]
    }
   ],
   "source": [
    "dfSpark.groupBy('final_manual_labelling').mean().show()"
   ]
  },
  {
   "cell_type": "code",
   "execution_count": null,
   "metadata": {},
   "outputs": [
    {
     "name": "stdout",
     "output_type": "stream",
     "text": [
      "Updated Value of Accumulator:  9\n"
     ]
    }
   ],
   "source": [
    "# ACUMULADOR QUE CUENTA LINEAS EN BLANCO (Tiene muchas aplicaciones)\n",
    "inputFile = \"appl_with_blanks.log\"\n",
    "lines = sc.textFile(inputFile)\n",
    "blk_cnt = sc.accumulator(0)\n",
    "def Blank_lines(line):\n",
    "    if(len(line) == 0):\n",
    "        blk_cnt.add(1)\n",
    "\n",
    "\n",
    "file = sc.textFile(inputFile)\n",
    "r1 = file.foreach(lambda x: Blank_lines(x))\n",
    "\n",
    "print(\"Updated Value of Accumulator: \" ,blk_cnt.value)"
   ]
  },
  {
   "cell_type": "markdown",
   "metadata": {},
   "source": [
    "## 4º MODELO DE CLASIFICACION SPARK-ML"
   ]
  },
  {
   "cell_type": "markdown",
   "metadata": {},
   "source": [
    "Desarrollar un modelo de clasificación utilizando Spark-ML para predecir especificamente la variable X = \"Blah\" ( o sea Logistic Regression) (3.0 puntos)"
   ]
  },
  {
   "cell_type": "code",
   "execution_count": 19,
   "metadata": {},
   "outputs": [
    {
     "name": "stdout",
     "output_type": "stream",
     "text": [
      "(Unnamed: 0                         2683\n",
      "id                                 2683\n",
      "date                               2683\n",
      "news                               2683\n",
      "final_manual_labelling             2683\n",
      "text_span                          2683\n",
      "type_abnormal_return_fama_frech    2683\n",
      "Columna_NaN                           3\n",
      "Texto_blanco                          3\n",
      "dtype: int64, 9)\n"
     ]
    }
   ],
   "source": [
    "dfML = spark.read.csv('Teoria De Clase/Log_Reg_dataset.csv',inferSchema=True,header=True)\n",
    "#check the shape of the data \n",
    "print((df.count(),len(df.columns)))"
   ]
  },
  {
   "cell_type": "code",
   "execution_count": 24,
   "metadata": {},
   "outputs": [],
   "source": [
    "from pyspark.ml.feature import OneHotEncoder\n",
    "from pyspark.ml.feature import StringIndexer"
   ]
  },
  {
   "cell_type": "code",
   "execution_count": 26,
   "metadata": {},
   "outputs": [],
   "source": [
    "# Indexing\n",
    "search_engine_class = StringIndexer(inputCol=\"Platform\", outputCol=\"Platform_Num\")\n",
    "search_engine_obj = search_engine_class.fit(dfML)\n",
    "dfML = search_engine_obj.transform(dfML)"
   ]
  },
  {
   "cell_type": "code",
   "execution_count": 27,
   "metadata": {},
   "outputs": [
    {
     "name": "stdout",
     "output_type": "stream",
     "text": [
      "+-------+---+--------------+--------+----------------+------+------------+\n",
      "|Country|Age|Repeat_Visitor|Platform|Web_pages_viewed|Status|Platform_Num|\n",
      "+-------+---+--------------+--------+----------------+------+------------+\n",
      "|India  |41 |1             |Yahoo   |21              |1     |0.0         |\n",
      "|Brazil |28 |1             |Yahoo   |5               |0     |0.0         |\n",
      "|Brazil |40 |0             |Google  |3               |0     |1.0         |\n",
      "+-------+---+--------------+--------+----------------+------+------------+\n",
      "only showing top 3 rows\n",
      "\n"
     ]
    }
   ],
   "source": [
    "dfML.show(3,False)"
   ]
  },
  {
   "cell_type": "code",
   "execution_count": 28,
   "metadata": {},
   "outputs": [],
   "source": [
    "#one hot encoding\n",
    "search_engine_encoder = OneHotEncoder(inputCol=\"Platform_Num\", outputCol=\"Platform_Vector\")\n",
    "ohe = search_engine_encoder.fit(dfML)\n",
    "dfML = ohe.transform(dfML)"
   ]
  },
  {
   "cell_type": "code",
   "execution_count": 29,
   "metadata": {},
   "outputs": [
    {
     "name": "stdout",
     "output_type": "stream",
     "text": [
      "+-------+---+--------------+--------+----------------+------+------------+---------------+\n",
      "|Country|Age|Repeat_Visitor|Platform|Web_pages_viewed|Status|Platform_Num|Platform_Vector|\n",
      "+-------+---+--------------+--------+----------------+------+------------+---------------+\n",
      "|India  |41 |1             |Yahoo   |21              |1     |0.0         |(2,[0],[1.0])  |\n",
      "|Brazil |28 |1             |Yahoo   |5               |0     |0.0         |(2,[0],[1.0])  |\n",
      "|Brazil |40 |0             |Google  |3               |0     |1.0         |(2,[1],[1.0])  |\n",
      "+-------+---+--------------+--------+----------------+------+------------+---------------+\n",
      "only showing top 3 rows\n",
      "\n"
     ]
    }
   ],
   "source": [
    "dfML.show(3,False)"
   ]
  },
  {
   "cell_type": "code",
   "execution_count": 31,
   "metadata": {},
   "outputs": [
    {
     "name": "stdout",
     "output_type": "stream",
     "text": [
      "+--------+-----+\n",
      "|Platform|count|\n",
      "+--------+-----+\n",
      "|Yahoo   |9859 |\n",
      "|Google  |5781 |\n",
      "|Bing    |4360 |\n",
      "+--------+-----+\n",
      "\n",
      "+------------+-----+\n",
      "|Platform_Num|count|\n",
      "+------------+-----+\n",
      "|0.0         |9859 |\n",
      "|1.0         |5781 |\n",
      "|2.0         |4360 |\n",
      "+------------+-----+\n",
      "\n",
      "+---------------+-----+\n",
      "|Platform_Vector|count|\n",
      "+---------------+-----+\n",
      "|(2,[0],[1.0])  |9859 |\n",
      "|(2,[1],[1.0])  |5781 |\n",
      "|(2,[],[])      |4360 |\n",
      "+---------------+-----+\n",
      "\n"
     ]
    }
   ],
   "source": [
    "dfML.groupBy('Platform').count().orderBy('count',ascending=False).show(5,False)\n",
    "dfML.groupBy('Platform_Num').count().orderBy('count',ascending=False).show(5,False)\n",
    "dfML.groupBy('Platform_Vector').count().orderBy('count',ascending=False).show(5,False)\n"
   ]
  },
  {
   "cell_type": "code",
   "execution_count": 32,
   "metadata": {},
   "outputs": [],
   "source": [
    "# string indexer\n",
    "country_indexer = StringIndexer(inputCol=\"Country\", outputCol=\"Country_Num\").fit(dfML)\n",
    "dfML = country_indexer.transform(dfML)\n",
    "\n",
    "# correlacion cuando esten todas con string indexer\n",
    "\n",
    "#one hot encoding\n",
    "country_encoder = OneHotEncoder(inputCol=\"Country_Num\", outputCol=\"Country_Vector\")\n",
    "ohe = country_encoder.fit(dfML)\n",
    "dfML = ohe.transform(dfML)"
   ]
  },
  {
   "cell_type": "code",
   "execution_count": 34,
   "metadata": {},
   "outputs": [
    {
     "name": "stdout",
     "output_type": "stream",
     "text": [
      "root\n",
      " |-- Country: string (nullable = true)\n",
      " |-- Age: integer (nullable = true)\n",
      " |-- Repeat_Visitor: integer (nullable = true)\n",
      " |-- Platform: string (nullable = true)\n",
      " |-- Web_pages_viewed: integer (nullable = true)\n",
      " |-- Status: integer (nullable = true)\n",
      " |-- Platform_Num: double (nullable = false)\n",
      " |-- Platform_Vector: vector (nullable = true)\n",
      " |-- Country_Num: double (nullable = false)\n",
      " |-- Country_Vector: vector (nullable = true)\n",
      "\n"
     ]
    }
   ],
   "source": [
    "dfML.printSchema()"
   ]
  },
  {
   "cell_type": "code",
   "execution_count": 35,
   "metadata": {},
   "outputs": [],
   "source": [
    "from pyspark.ml.feature import VectorAssembler"
   ]
  },
  {
   "cell_type": "code",
   "execution_count": 36,
   "metadata": {},
   "outputs": [],
   "source": [
    "df_assembler = VectorAssembler(inputCols=['Platform_Vector','Country_Vector','Age', 'Repeat_Visitor','Web_pages_viewed'], outputCol=\"features\")\n",
    "dfML = df_assembler.transform(dfML)"
   ]
  },
  {
   "cell_type": "code",
   "execution_count": 38,
   "metadata": {},
   "outputs": [
    {
     "name": "stdout",
     "output_type": "stream",
     "text": [
      "root\n",
      " |-- Country: string (nullable = true)\n",
      " |-- Age: integer (nullable = true)\n",
      " |-- Repeat_Visitor: integer (nullable = true)\n",
      " |-- Platform: string (nullable = true)\n",
      " |-- Web_pages_viewed: integer (nullable = true)\n",
      " |-- Status: integer (nullable = true)\n",
      " |-- Platform_Num: double (nullable = false)\n",
      " |-- Platform_Vector: vector (nullable = true)\n",
      " |-- Country_Num: double (nullable = false)\n",
      " |-- Country_Vector: vector (nullable = true)\n",
      " |-- features: vector (nullable = true)\n",
      "\n",
      "+-----------------------------------+------+\n",
      "|features                           |Status|\n",
      "+-----------------------------------+------+\n",
      "|[1.0,0.0,0.0,1.0,0.0,41.0,1.0,21.0]|1     |\n",
      "|[1.0,0.0,0.0,0.0,1.0,28.0,1.0,5.0] |0     |\n",
      "|(8,[1,4,5,7],[1.0,1.0,40.0,3.0])   |0     |\n",
      "|(8,[2,5,6,7],[1.0,31.0,1.0,15.0])  |1     |\n",
      "|(8,[1,5,7],[1.0,32.0,15.0])        |1     |\n",
      "|(8,[1,4,5,7],[1.0,1.0,32.0,3.0])   |0     |\n",
      "|(8,[1,4,5,7],[1.0,1.0,32.0,6.0])   |0     |\n",
      "|(8,[1,2,5,7],[1.0,1.0,27.0,9.0])   |0     |\n",
      "|(8,[0,2,5,7],[1.0,1.0,32.0,2.0])   |0     |\n",
      "|(8,[2,5,6,7],[1.0,31.0,1.0,16.0])  |1     |\n",
      "+-----------------------------------+------+\n",
      "only showing top 10 rows\n",
      "\n"
     ]
    }
   ],
   "source": [
    "dfML.printSchema()\n",
    "dfML.select(['features','Status']).show(10,False)"
   ]
  },
  {
   "cell_type": "code",
   "execution_count": 39,
   "metadata": {},
   "outputs": [],
   "source": [
    "#select data for building model\n",
    "model_df=dfML.select(['features','Status'])"
   ]
  },
  {
   "cell_type": "code",
   "execution_count": 40,
   "metadata": {},
   "outputs": [],
   "source": [
    "from pyspark.ml.classification import LogisticRegression"
   ]
  },
  {
   "cell_type": "code",
   "execution_count": 41,
   "metadata": {},
   "outputs": [],
   "source": [
    "#split the data \n",
    "training_df,test_df=model_df.randomSplit([0.75,0.25])"
   ]
  },
  {
   "cell_type": "code",
   "execution_count": 42,
   "metadata": {},
   "outputs": [
    {
     "data": {
      "text/plain": [
       "(15083, 4917)"
      ]
     },
     "execution_count": 42,
     "metadata": {},
     "output_type": "execute_result"
    }
   ],
   "source": [
    "(training_df.count(),test_df.count())"
   ]
  },
  {
   "cell_type": "code",
   "execution_count": 43,
   "metadata": {},
   "outputs": [
    {
     "name": "stdout",
     "output_type": "stream",
     "text": [
      "+------+-----+\n",
      "|Status|count|\n",
      "+------+-----+\n",
      "|     1| 7554|\n",
      "|     0| 7529|\n",
      "+------+-----+\n",
      "\n",
      "+------+-----+\n",
      "|Status|count|\n",
      "+------+-----+\n",
      "|     1| 2446|\n",
      "|     0| 2471|\n",
      "+------+-----+\n",
      "\n"
     ]
    }
   ],
   "source": [
    "training_df.groupBy('Status').count().show()\n",
    "test_df.groupBy('Status').count().show()"
   ]
  },
  {
   "cell_type": "code",
   "execution_count": 44,
   "metadata": {},
   "outputs": [],
   "source": [
    "log_reg_class=LogisticRegression(labelCol='Status')\n",
    "log_reg_model=log_reg_class.fit(training_df)"
   ]
  },
  {
   "cell_type": "code",
   "execution_count": 45,
   "metadata": {},
   "outputs": [
    {
     "name": "stderr",
     "output_type": "stream",
     "text": [
      "C:\\Users\\gonef\\AppData\\Local\\Packages\\PythonSoftwareFoundation.Python.3.10_qbz5n2kfra8p0\\LocalCache\\local-packages\\Python310\\site-packages\\pyspark\\sql\\context.py:125: FutureWarning: Deprecated in 3.0.0. Use SparkSession.builder.getOrCreate() instead.\n",
      "  warnings.warn(\n"
     ]
    }
   ],
   "source": [
    "#Training Results\n",
    "train_results=log_reg_model.evaluate(training_df).predictions"
   ]
  },
  {
   "cell_type": "code",
   "execution_count": 46,
   "metadata": {},
   "outputs": [
    {
     "name": "stdout",
     "output_type": "stream",
     "text": [
      "+------+----------+-----------------------------------------+\n",
      "|Status|prediction|probability                              |\n",
      "+------+----------+-----------------------------------------+\n",
      "|1     |1.0       |[0.2954291998954604,0.7045708001045397]  |\n",
      "|1     |1.0       |[0.2954291998954604,0.7045708001045397]  |\n",
      "|1     |1.0       |[0.2954291998954604,0.7045708001045397]  |\n",
      "|1     |1.0       |[0.1645514487445559,0.8354485512554441]  |\n",
      "|1     |1.0       |[0.0846848768401495,0.9153151231598505]  |\n",
      "|1     |1.0       |[0.0846848768401495,0.9153151231598505]  |\n",
      "|1     |1.0       |[0.0846848768401495,0.9153151231598505]  |\n",
      "|1     |1.0       |[0.0846848768401495,0.9153151231598505]  |\n",
      "|1     |1.0       |[0.041649778130939535,0.9583502218690605]|\n",
      "|1     |1.0       |[0.041649778130939535,0.9583502218690605]|\n",
      "+------+----------+-----------------------------------------+\n",
      "only showing top 10 rows\n",
      "\n"
     ]
    }
   ],
   "source": [
    "train_results.filter(train_results['Status']==1).filter(train_results['prediction']==1).select(['Status','prediction','probability']).show(10,False)"
   ]
  },
  {
   "cell_type": "code",
   "execution_count": 47,
   "metadata": {},
   "outputs": [],
   "source": [
    "# Probability at 0 index is for 0 class and probabilty as 1 index is for 1 class\n",
    "correct_preds=train_results.filter(train_results['Status']==1).filter(train_results['prediction']==1).count()"
   ]
  },
  {
   "cell_type": "code",
   "execution_count": 48,
   "metadata": {},
   "outputs": [
    {
     "data": {
      "text/plain": [
       "0.9379136881122584"
      ]
     },
     "execution_count": 48,
     "metadata": {},
     "output_type": "execute_result"
    }
   ],
   "source": [
    "#accuracy on training dataset \n",
    "float(correct_preds)/(training_df.filter(training_df['Status']==1).count())"
   ]
  },
  {
   "cell_type": "code",
   "execution_count": 49,
   "metadata": {},
   "outputs": [],
   "source": [
    "# Test Set results\n",
    "results=log_reg_model.evaluate(test_df).predictions"
   ]
  },
  {
   "cell_type": "code",
   "execution_count": 50,
   "metadata": {},
   "outputs": [
    {
     "name": "stdout",
     "output_type": "stream",
     "text": [
      "+------+----------+\n",
      "|Status|prediction|\n",
      "+------+----------+\n",
      "|0     |0.0       |\n",
      "|0     |0.0       |\n",
      "|0     |0.0       |\n",
      "|0     |0.0       |\n",
      "|0     |0.0       |\n",
      "|0     |0.0       |\n",
      "|0     |0.0       |\n",
      "|0     |0.0       |\n",
      "|0     |0.0       |\n",
      "|0     |0.0       |\n",
      "+------+----------+\n",
      "only showing top 10 rows\n",
      "\n"
     ]
    }
   ],
   "source": [
    "results.select(['Status','prediction']).show(10,False)"
   ]
  },
  {
   "cell_type": "code",
   "execution_count": 51,
   "metadata": {},
   "outputs": [
    {
     "name": "stdout",
     "output_type": "stream",
     "text": [
      "root\n",
      " |-- features: vector (nullable = true)\n",
      " |-- Status: integer (nullable = true)\n",
      " |-- rawPrediction: vector (nullable = true)\n",
      " |-- probability: vector (nullable = true)\n",
      " |-- prediction: double (nullable = false)\n",
      "\n"
     ]
    }
   ],
   "source": [
    "results.printSchema()"
   ]
  },
  {
   "cell_type": "code",
   "execution_count": 52,
   "metadata": {},
   "outputs": [],
   "source": [
    "from pyspark.ml.evaluation import BinaryClassificationEvaluator"
   ]
  },
  {
   "cell_type": "code",
   "execution_count": 53,
   "metadata": {},
   "outputs": [],
   "source": [
    "#confusion matrix\n",
    "true_postives = results[(results.Status == 1) & (results.prediction == 1)].count()\n",
    "true_negatives = results[(results.Status == 0) & (results.prediction == 0)].count()\n",
    "false_positives = results[(results.Status == 0) & (results.prediction == 1)].count()\n",
    "false_negatives = results[(results.Status == 1) & (results.prediction == 0)].count()"
   ]
  },
  {
   "cell_type": "code",
   "execution_count": 54,
   "metadata": {},
   "outputs": [
    {
     "name": "stdout",
     "output_type": "stream",
     "text": [
      "2304\n",
      "2316\n",
      "155\n",
      "142\n",
      "4917\n",
      "4917\n"
     ]
    }
   ],
   "source": [
    "print (true_postives)\n",
    "print (true_negatives)\n",
    "print (false_positives)\n",
    "print (false_negatives)\n",
    "print(true_postives+true_negatives+false_positives+false_negatives)\n",
    "print (results.count())"
   ]
  },
  {
   "cell_type": "code",
   "execution_count": 55,
   "metadata": {},
   "outputs": [
    {
     "name": "stdout",
     "output_type": "stream",
     "text": [
      "0.9419460343417825\n"
     ]
    }
   ],
   "source": [
    "recall = float(true_postives)/(true_postives + false_negatives)\n",
    "print(recall)"
   ]
  },
  {
   "cell_type": "code",
   "execution_count": 56,
   "metadata": {},
   "outputs": [
    {
     "name": "stdout",
     "output_type": "stream",
     "text": [
      "0.936966246441643\n"
     ]
    }
   ],
   "source": [
    "precision = float(true_postives) / (true_postives + false_positives)\n",
    "print(precision)"
   ]
  },
  {
   "cell_type": "code",
   "execution_count": 57,
   "metadata": {},
   "outputs": [
    {
     "name": "stdout",
     "output_type": "stream",
     "text": [
      "0.9395973154362416\n"
     ]
    }
   ],
   "source": [
    "accuracy=float((true_postives+true_negatives) /(results.count()))\n",
    "print(accuracy)"
   ]
  },
  {
   "cell_type": "markdown",
   "metadata": {},
   "source": [
    "# TEORIA\n",
    "\n",
    "**pyspark.rdd.RDD**: A Resilient Distributed Dataset (RDD), the basic abstraction in Spark. Represents an immutable, partitioned collection of elements that can be operated on in parallel.\n",
    "\n",
    "**.map()**: recorre los elementos de la lista devolviendo 1 resultado por cada elemento.\n",
    "\n",
    "**.flatmap()**: reduce la dimension de la lista. Recorre los elementos de la lista apicando la funcion a cada elemento dentro de esa lista (Esencialmente recorre los caracteres)."
   ]
  },
  {
   "cell_type": "code",
   "execution_count": null,
   "metadata": {},
   "outputs": [],
   "source": [
    "#import corr function from pyspark functions\n",
    "from pyspark.sql.functions import corr\n",
    "# check for correlation\n",
    "df.select(corr('var_1','output')).show()"
   ]
  }
 ],
 "metadata": {
  "interpreter": {
   "hash": "11c036cb7895cbf83012912dd79332e41f5328f11549a31f4dac2b50d64da202"
  },
  "kernelspec": {
   "display_name": "Python 3.10.4 64-bit (windows store)",
   "language": "python",
   "name": "python3"
  },
  "language_info": {
   "codemirror_mode": {
    "name": "ipython",
    "version": 3
   },
   "file_extension": ".py",
   "mimetype": "text/x-python",
   "name": "python",
   "nbconvert_exporter": "python",
   "pygments_lexer": "ipython3",
   "version": "3.10.4"
  },
  "orig_nbformat": 4
 },
 "nbformat": 4,
 "nbformat_minor": 2
}
